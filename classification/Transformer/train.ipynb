{
 "cells": [
  {
   "cell_type": "code",
   "execution_count": null,
   "metadata": {},
   "outputs": [],
   "source": [
    "from train import train_main\n",
    "\n",
    "if __name__ == \"__main__\":\n",
    "    from multiprocessing import Pool\n",
    "    from itertools import product\n",
    "\n",
    "    # participants = [\"sub-06\"]  # [f\"sub-{i:02d}\" for i in range(1, 11)]\n",
    "    folds = [i for i in range(10)]  # [0, 1]\n",
    "    nums_classes = (2, 5)\n",
    "\n",
    "    miniconfigs = [\n",
    "        {\"num_classes\": num_classes, \"fold\": fold}\n",
    "        for num_classes, fold in product(nums_classes, folds)\n",
    "    ]\n",
    "    # train_main(miniconfigs[0])\n",
    "    # for miniconfig in miniconfigs:\n",
    "    #     train_main(miniconfig)\n",
    "    with Pool(processes=4) as pool:\n",
    "        pool.map(train_main, miniconfigs)"
   ]
  }
 ],
 "metadata": {
  "kernelspec": {
   "display_name": "base",
   "language": "python",
   "name": "python3"
  },
  "language_info": {
   "name": "python",
   "version": "3.11.5"
  }
 },
 "nbformat": 4,
 "nbformat_minor": 2
}
